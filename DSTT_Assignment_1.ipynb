{
  "nbformat": 4,
  "nbformat_minor": 0,
  "metadata": {
    "colab": {
      "provenance": [],
      "authorship_tag": "ABX9TyNhlzwixX+iPQVU5qt4BVN1",
      "include_colab_link": true
    },
    "kernelspec": {
      "name": "python3",
      "display_name": "Python 3"
    },
    "language_info": {
      "name": "python"
    }
  },
  "cells": [
    {
      "cell_type": "markdown",
      "metadata": {
        "id": "view-in-github",
        "colab_type": "text"
      },
      "source": [
        "<a href=\"https://colab.research.google.com/github/Bassam-123/DSTT-Assignment/blob/main/DSTT_Assignment_1.ipynb\" target=\"_parent\"><img src=\"https://colab.research.google.com/assets/colab-badge.svg\" alt=\"Open In Colab\"/></a>"
      ]
    },
    {
      "cell_type": "markdown",
      "source": [
        "## Name : Bassam Nazer"
      ],
      "metadata": {
        "id": "Fh9rEBeyzogV"
      }
    },
    {
      "cell_type": "markdown",
      "source": [
        "## Reg no: 22-27-07"
      ],
      "metadata": {
        "id": "_gKEE7z-zhXa"
      }
    },
    {
      "cell_type": "markdown",
      "source": [
        "Question 1"
      ],
      "metadata": {
        "id": "B_S-aKe5z1PZ"
      }
    },
    {
      "cell_type": "markdown",
      "source": [
        "Given an array A of N numbers (int), Write a program which prints the multiplication of the\n",
        "elements of array A with the corresponding elements of the reverse of array A.\n",
        "If A = [1,2,3], then reverse of A will be [3,2,1] and the result should be [3,4,3]."
      ],
      "metadata": {
        "id": "jSfy-f1o_4um"
      }
    },
    {
      "cell_type": "code",
      "source": [
        "n = int(input(\"Enter the size of the array: \"))\n",
        "x = [int(i) for i in input().split()]\n",
        "y = []\n",
        "for i in range(0,n):\n",
        "\n",
        "  y.append( (x[i]*x[n-1-i]))\n",
        "\n",
        "result = ' '.join(str(i) for i in y)\n",
        "print(result)"
      ],
      "metadata": {
        "colab": {
          "base_uri": "https://localhost:8080/"
        },
        "id": "u5x6l4tJ08o1",
        "outputId": "30407c65-79e5-401b-8bf6-95c91c9c7223"
      },
      "execution_count": 4,
      "outputs": [
        {
          "output_type": "stream",
          "name": "stdout",
          "text": [
            "Enter the size of the array: 3\n",
            "1 2 3\n",
            "3 4 3\n"
          ]
        }
      ]
    },
    {
      "cell_type": "markdown",
      "source": [
        "Question 2"
      ],
      "metadata": {
        "id": "x7_Ermir36-u"
      }
    },
    {
      "cell_type": "markdown",
      "source": [
        "Given a list of numbers (integers), find second maximum and second minimum in\n",
        "this list."
      ],
      "metadata": {
        "id": "iN_HPl5cAB8e"
      }
    },
    {
      "cell_type": "code",
      "source": [
        "a = [2,4,5,6,2,8,1,8,9]\n",
        "a.remove(max(a))\n",
        "c = max(a)\n",
        "print(\"Second Largest element is:\", c)\n",
        "a.remove(min(a))\n",
        "b = min(a)\n",
        "print(\"Second Smallest element is:\", b)"
      ],
      "metadata": {
        "colab": {
          "base_uri": "https://localhost:8080/"
        },
        "id": "D1UvBdLY2hqn",
        "outputId": "cae563f5-f59f-4d12-ba6f-26004522197a"
      },
      "execution_count": 3,
      "outputs": [
        {
          "output_type": "stream",
          "name": "stdout",
          "text": [
            "Second Largest element is: 8\n",
            "Second Smallest element is: 2\n"
          ]
        }
      ]
    },
    {
      "cell_type": "markdown",
      "source": [
        "Question 3"
      ],
      "metadata": {
        "id": "GuADcpD4OJBB"
      }
    },
    {
      "cell_type": "markdown",
      "source": [
        "Given a list A of numbers (integers), you have to print those numbers which are not\n",
        "multiples of 5."
      ],
      "metadata": {
        "id": "WRHi5iBSAk5o"
      }
    },
    {
      "cell_type": "code",
      "source": [
        "list1 = [1,2,4,5,6,7,10,13,15,17,20]\n",
        "list2 = []\n",
        "for i in list1:\n",
        "  if i % 5 == 0:\n",
        "    list1.remove(i)\n",
        "\n",
        "print(list1)"
      ],
      "metadata": {
        "colab": {
          "base_uri": "https://localhost:8080/"
        },
        "id": "PAS73t-kNNW8",
        "outputId": "4cce9fb8-e3e7-458e-bf2b-7294e0e22ede"
      },
      "execution_count": null,
      "outputs": [
        {
          "output_type": "stream",
          "name": "stdout",
          "text": [
            "[1, 2, 4, 6, 7, 13, 17]\n"
          ]
        }
      ]
    },
    {
      "cell_type": "markdown",
      "source": [
        "Question 4"
      ],
      "metadata": {
        "id": "CpRvV37SQ978"
      }
    },
    {
      "cell_type": "markdown",
      "source": [
        "You are given a number A which contains only digits 0’s and 1’s. Your task is to\n",
        "make all digits same by just flipping one digit (i.e. 0 to 1 or 1 to 0 ) only. If it is\n",
        "possible to make all the digits same by just flipping one digit then print ’YES’ else\n",
        "print ’NO’."
      ],
      "metadata": {
        "id": "OD8ySS03ApI1"
      }
    },
    {
      "cell_type": "code",
      "source": [
        "def canMakeAllSame(str):\n",
        "    zeros = 0\n",
        "    ones = 0\n",
        " \n",
        "    # Traverse through given string and\n",
        "    # count numbers of 0's and 1's\n",
        "    for i in range(0, len(str)):\n",
        "        ch = str[i];\n",
        "        if (ch == '0'):\n",
        "            zeros = zeros + 1\n",
        "        else:\n",
        "            ones = ones + 1\n",
        " \n",
        "    # Return true if any of the two\n",
        "    # counts is 1\n",
        "    return (zeros == 1 or ones == 1);\n",
        " \n",
        "# Driver code\n",
        "n = input('Enter a binary number: ')\n",
        "if(canMakeAllSame(n)):\n",
        "    print(\"Yes\\n\")\n",
        "else:\n",
        "    print(\"No\\n\")"
      ],
      "metadata": {
        "colab": {
          "base_uri": "https://localhost:8080/"
        },
        "id": "gauHjqC3OrSi",
        "outputId": "c0e819c1-e8bd-471b-df37-8c337d21b6d9"
      },
      "execution_count": null,
      "outputs": [
        {
          "output_type": "stream",
          "name": "stdout",
          "text": [
            "Enter a binary number: 1110\n",
            "Yes\n",
            "\n"
          ]
        }
      ]
    },
    {
      "cell_type": "markdown",
      "source": [
        "Question 5"
      ],
      "metadata": {
        "id": "VCAMMj30RLzz"
      }
    },
    {
      "cell_type": "markdown",
      "source": [
        "Given an integer number n, you have to print the factorial of this number."
      ],
      "metadata": {
        "id": "EdUNqRR0AsVr"
      }
    },
    {
      "cell_type": "code",
      "source": [
        "def fact(x):\n",
        "  if x ==1:\n",
        "    return 1\n",
        "  \n",
        "  else:\n",
        "    return (x*fact(x-1))\n",
        "\n",
        "x = int(input('Enter a Number: '))\n",
        "result = fact(x)\n",
        "print('The Factorial of',x,'is',result)"
      ],
      "metadata": {
        "colab": {
          "base_uri": "https://localhost:8080/"
        },
        "id": "088wfRGtRLDR",
        "outputId": "9ce06719-9910-4c97-b4f6-94349cf8dbe0"
      },
      "execution_count": null,
      "outputs": [
        {
          "output_type": "stream",
          "name": "stdout",
          "text": [
            "Enter a Number: 4\n",
            "The Factorial of 4 is 24\n"
          ]
        }
      ]
    },
    {
      "cell_type": "markdown",
      "source": [
        "Question 6"
      ],
      "metadata": {
        "id": "yD_qYl3lSRtl"
      }
    },
    {
      "cell_type": "markdown",
      "source": [
        "Write a program, which will find all such numbers between m and n (both included)\n",
        "such that each digit of the number is an even number."
      ],
      "metadata": {
        "id": "QgPm3IsbAu8S"
      }
    },
    {
      "cell_type": "code",
      "source": [
        "x = input().split(',')\n",
        "m = int(x[0])\n",
        "n = int(x[1])\n",
        "result = []\n",
        "for i in range(m,n):\n",
        "  if int(i) % 2 ==0 and int(i) % 20 < 10 and int(i) % 200 < 100 and int(i) % 2000 < 1000:\n",
        "    result.append(str(i))\n",
        "print(','.join(result))"
      ],
      "metadata": {
        "colab": {
          "base_uri": "https://localhost:8080/"
        },
        "id": "mAZa71jPR1vt",
        "outputId": "fdf4ac86-ad38-449c-8b17-910c8cb596a7"
      },
      "execution_count": null,
      "outputs": [
        {
          "output_type": "stream",
          "name": "stdout",
          "text": [
            "2000,3000\n",
            "2000,2002,2004,2006,2008,2020,2022,2024,2026,2028,2040,2042,2044,2046,2048,2060,2062,2064,2066,2068,2080,2082,2084,2086,2088,2200,2202,2204,2206,2208,2220,2222,2224,2226,2228,2240,2242,2244,2246,2248,2260,2262,2264,2266,2268,2280,2282,2284,2286,2288,2400,2402,2404,2406,2408,2420,2422,2424,2426,2428,2440,2442,2444,2446,2448,2460,2462,2464,2466,2468,2480,2482,2484,2486,2488,2600,2602,2604,2606,2608,2620,2622,2624,2626,2628,2640,2642,2644,2646,2648,2660,2662,2664,2666,2668,2680,2682,2684,2686,2688,2800,2802,2804,2806,2808,2820,2822,2824,2826,2828,2840,2842,2844,2846,2848,2860,2862,2864,2866,2868,2880,2882,2884,2886,2888\n"
          ]
        }
      ]
    }
  ]
}